{
 "cells": [
  {
   "cell_type": "code",
   "execution_count": 90,
   "metadata": {},
   "outputs": [],
   "source": [
    "import numpy as np\n",
    "import matplotlib.pyplot as plt\n",
    "import warnings\n",
    "from sklearn.linear_model import LinearRegression\n",
    "warnings.filterwarnings(action='ignore')\n",
    "%matplotlib inline"
   ]
  },
  {
   "cell_type": "markdown",
   "metadata": {},
   "source": [
    "# Gradient Descent"
   ]
  },
  {
   "cell_type": "code",
   "execution_count": 98,
   "metadata": {},
   "outputs": [
    {
     "data": {
      "image/png": "[encoded data removed]",
      "text/plain": [
       "<Figure size 1080x360 with 1 Axes>"
      ]
     },
     "metadata": {
      "needs_background": "light"
     },
     "output_type": "display_data"
    }
   ],
   "source": [
    "np.random.seed(0)\n",
    "#y=4x+6을 근사하기 위한 100개의 데이터 세트를 만들고, 여기에 경사하강법을 이용해 회귀계수 w0, w1도출\n",
    "\n",
    "#randn : 표준편차 1, 평균 0인 표준정규분포 난수 생성\n",
    "#rand : 0~1의 균일분포 난수 생성\n",
    "X = 2*np.random.rand(100,1)\n",
    "y= 6+4*X+np.random.randn(100,1) #만약 독립변수가 여러개라면 모두 다른 값으로 초기화 해야함(그렇지 않으면 모두 같은 값으로 업데이트)\n",
    "\n",
    "#X,y데이터 세트 산점도로 시각화\n",
    "plt.figure(figsize=(15,5))\n",
    "plt.scatter(X,y)\n",
    "plt.show()"
   ]
  },
  {
   "cell_type": "code",
   "execution_count": 35,
   "metadata": {},
   "outputs": [],
   "source": [
    "#비용 함수\n",
    "def get_cost(y,y_pred):\n",
    "    N=len(y)\n",
    "    cost = np.sum(np.square(y-y_pred))/N\n",
    "    return cost"
   ]
  },
  {
   "cell_type": "code",
   "execution_count": 40,
   "metadata": {},
   "outputs": [],
   "source": [
    "#w1과 w0를 업데이트 할 w1_update, w0_update를 반환\n",
    "def get_weight_updates(w1, w0, X,y,learning_rate=0.01):\n",
    "    N=len(y)\n",
    "    \n",
    "    w1_update = np.zeros_like(w1)#w1과 동일한 모양과 데이터의 형태를 유지한 상태에서 값을 0으로 초기화\n",
    "    w0_update = np.zeros_like(w0)#w1과 동일한 모양과 데이터의 형태를 유지한 상태에서 값을 0으로 초기화\n",
    "    \n",
    "    #예측 배열 계산하고 예측과 실제 값의 차이 계산\n",
    "    #print(\"원본:\",w1, type(w1))\n",
    "    #print(\"T: \",w1.T, type(w1.T))\n",
    "    y_pred = np.dot(X,w1.T)+w0\n",
    "    diff= y-y_pred\n",
    "        \n",
    "    #w0_update를 dot행렬 연산으로 구하기 위해 모두 1값을 가진 행렬 생성\n",
    "    w0_factors = np.ones((N,1))\n",
    "    \n",
    "    #w1과 w0을 업데이트할 w1_update와 w0_update계산\n",
    "    w1_update = -(2/N)*learning_rate*(np.dot(X.T, diff))\n",
    "    w0_update = -(2/N)*learning_rate*(np.dot(w0_factors.T, diff))\n",
    "    \n",
    "    return w1_update, w0_update"
   ]
  },
  {
   "cell_type": "code",
   "execution_count": 62,
   "metadata": {},
   "outputs": [],
   "source": [
    "#입력 인자 iters로 주어진 횟수만큼 반복적으로 w1과 w0를 업데이터 적용함\n",
    "def gradient_descent_steps(X, y, iters=10000):\n",
    "    w0 = np.zeros((1,1))\n",
    "    w1 = np.zeros((1,1))\n",
    "    \n",
    "    #인자로 주어진 iters만큼 반복적으로 get_weight_updates()를 호출하여 w1, w0 업데이트 수행\n",
    "    for ind in range(iters):\n",
    "        w1_up,w0_up = get_weight_updates(w1,w0,X,y,0.01)\n",
    "        w1 -= w1_up\n",
    "        w0 -= w0_up\n",
    "        \n",
    "    return w1, w0"
   ]
  },
  {
   "cell_type": "code",
   "execution_count": 19,
   "metadata": {},
   "outputs": [
    {
     "name": "stdout",
     "output_type": "stream",
     "text": [
      "원본: [[0.]] <class 'numpy.ndarray'>\n",
      "T:  [[0.]] <class 'numpy.ndarray'>\n",
      "원본: [[0.21502681]] <class 'numpy.ndarray'>\n",
      "T:  [[0.21502681]] <class 'numpy.ndarray'>\n",
      "원본: [[0.42100578]] <class 'numpy.ndarray'>\n",
      "T:  [[0.42100578]] <class 'numpy.ndarray'>\n",
      "원본: [[0.61831123]] <class 'numpy.ndarray'>\n",
      "T:  [[0.61831123]] <class 'numpy.ndarray'>\n",
      "원본: [[0.80730201]] <class 'numpy.ndarray'>\n",
      "T:  [[0.80730201]] <class 'numpy.ndarray'>\n",
      "원본: [[0.98832217]] <class 'numpy.ndarray'>\n",
      "T:  [[0.98832217]] <class 'numpy.ndarray'>\n",
      "원본: [[1.1617015]] <class 'numpy.ndarray'>\n",
      "T:  [[1.1617015]] <class 'numpy.ndarray'>\n",
      "원본: [[1.32775621]] <class 'numpy.ndarray'>\n",
      "T:  [[1.32775621]] <class 'numpy.ndarray'>\n",
      "원본: [[1.48678941]] <class 'numpy.ndarray'>\n",
      "T:  [[1.48678941]] <class 'numpy.ndarray'>\n",
      "원본: [[1.6390917]] <class 'numpy.ndarray'>\n",
      "T:  [[1.6390917]] <class 'numpy.ndarray'>\n"
     ]
    }
   ],
   "source": [
    "w1, w0 = gradient_descent_steps(X,y,10)"
   ]
  },
  {
   "cell_type": "code",
   "execution_count": 41,
   "metadata": {
    "scrolled": false
   },
   "outputs": [],
   "source": [
    "w1, w0 = gradient_descent_steps(X,y)"
   ]
  },
  {
   "cell_type": "code",
   "execution_count": 42,
   "metadata": {},
   "outputs": [
    {
     "name": "stdout",
     "output_type": "stream",
     "text": [
      "w1: 3.968, w0: 6.222\n"
     ]
    }
   ],
   "source": [
    "print(f\"w1: {np.round(w1[0,0],3)}, w0: {np.round(w0[0,0],3)}\")"
   ]
  },
  {
   "cell_type": "code",
   "execution_count": 43,
   "metadata": {},
   "outputs": [
    {
     "name": "stdout",
     "output_type": "stream",
     "text": [
      "Gradient Descent Total Cost:0.9924\n"
     ]
    }
   ],
   "source": [
    "y_pred = w1[0,0]*X+w0\n",
    "print(f\"Gradient Descent Total Cost:{round(get_cost(y,y_pred),4)}\")"
   ]
  },
  {
   "cell_type": "code",
   "execution_count": 61,
   "metadata": {},
   "outputs": [
    {
     "data": {
      "image/png": "[encoded data removed]",
      "text/plain": [
       "<Figure size 1080x360 with 1 Axes>"
      ]
     },
     "metadata": {
      "needs_background": "light"
     },
     "output_type": "display_data"
    }
   ],
   "source": [
    "plt.figure(figsize=(15,5))\n",
    "plt.scatter(X,y)\n",
    "plt.plot(X,y_pred,color='r')\n",
    "plt.show()"
   ]
  },
  {
   "cell_type": "markdown",
   "metadata": {},
   "source": [
    "<br><br><br>\n",
    "# SGD(Stochastic Gradient Descent)"
   ]
  },
  {
   "cell_type": "markdown",
   "metadata": {},
   "source": [
    "- 전체 입력 데이터로 w가 업데이트되는 값을 계산하는 것이 아니라, 일부 데이터만 이용해 w가 업데이트되는 값을 계산한다.<br>\n",
    "-> 빠르다.(대용량 데이터에 적합)"
   ]
  },
  {
   "cell_type": "code",
   "execution_count": 66,
   "metadata": {},
   "outputs": [],
   "source": [
    "def stochastic_gradient_descent_steps(X, y, batch_size= 10, iters=1000):\n",
    "    w0 = np.zeros((1,1))\n",
    "    w1 = np.zeros((1,1))\n",
    "    prev_cost = 100000\n",
    "    iter_index = 0\n",
    "    \n",
    "    for ind in range(iters):\n",
    "        np.random.seed(ind)\n",
    "        stochastic_random_index = np.random.permutation(X.shape[0])#shuffle과 달리 원본은 유지하고 array를 복사하여 return\n",
    "        #print(stochastic_random_index)\n",
    "        #전체 X,y데이터에서 랜덤하게 batch_size만큼 데이터를 추출해 sample_X, sample_y로 저장\n",
    "        sample_X,sample_y = X[stochastic_random_index[0:batch_size]], y[stochastic_random_index[0:batch_size]]\n",
    "        \n",
    "        #랜덤하게 batch_size만큼 추출된 데이터 기반으로 w1_update, w0_update 계산 후 업데이트\n",
    "        w1_up, w0_up= get_weight_updates(w1,w0,sample_X, sample_y, 0.01)\n",
    "        w1-=w1_up\n",
    "        w0-=w0_up\n",
    "    return w1,w0"
   ]
  },
  {
   "cell_type": "code",
   "execution_count": null,
   "metadata": {},
   "outputs": [],
   "source": [
    "rand"
   ]
  },
  {
   "cell_type": "code",
   "execution_count": 69,
   "metadata": {},
   "outputs": [
    {
     "name": "stdout",
     "output_type": "stream",
     "text": [
      "w1:  4.028 w0:  6.156\n",
      "Stochastic Gradient Descent Total cost:  0.9937\n"
     ]
    }
   ],
   "source": [
    "w1, w0 = stochastic_gradient_descent_steps(X,y)\n",
    "print(\"w1: \", round(w1[0,0],3), \"w0: \",round(w0[0,0],3))\n",
    "y_pred = w1[0,0]*X + w0\n",
    "print('Stochastic Gradient Descent Total cost: ', round(get_cost(y,y_pred),4))"
   ]
  },
  {
   "cell_type": "code",
   "execution_count": 71,
   "metadata": {},
   "outputs": [
    {
     "data": {
      "image/png": "[encoded data removed]",
      "text/plain": [
       "<Figure size 1080x360 with 1 Axes>"
      ]
     },
     "metadata": {
      "needs_background": "light"
     },
     "output_type": "display_data"
    }
   ],
   "source": [
    "plt.figure(figsize=(15,5))\n",
    "plt.scatter(X,y)\n",
    "plt.plot(X,y_pred,color='r')\n",
    "plt.show()"
   ]
  },
  {
   "cell_type": "markdown",
   "metadata": {},
   "source": [
    "- 예측 오류 비용: 0.9924(GD),0.9937(SGD)\n",
    "- GD와 큰 차이 없으므로 큰 데이터를 처리하는 경우, SGD를 이용하는 것이 옳은 판단일 가능성이 크다."
   ]
  },
  {
   "cell_type": "markdown",
   "metadata": {},
   "source": [
    "<br><br><br>\n",
    "# Polynomial Regression"
   ]
  },
  {
   "cell_type": "markdown",
   "metadata": {},
   "source": [
    "- sklearn은 다항 회귀를 위한 클래스를 제공하지 않음 -> 비선형 함수를 선형 모델에 적용시키는 방법 有"
   ]
  },
  {
   "cell_type": "code",
   "execution_count": 73,
   "metadata": {},
   "outputs": [
    {
     "name": "stdout",
     "output_type": "stream",
     "text": [
      "일차 단항식 계수 피처:  [[0 1]\n",
      " [2 3]]\n"
     ]
    }
   ],
   "source": [
    "from sklearn.preprocessing import PolynomialFeatures\n",
    "import numpy as np\n",
    "\n",
    "#다항식으로 변환한 단항식 생성, [[0,1], [2,3]]의 2*2행렬 생성\n",
    "X = np.arange(4).reshape(2,2)\n",
    "print('일차 단항식 계수 피처: ',X)"
   ]
  },
  {
   "cell_type": "code",
   "execution_count": 75,
   "metadata": {},
   "outputs": [
    {
     "name": "stdout",
     "output_type": "stream",
     "text": [
      "변환된 2차 다항식 계수 피처:  [[1. 0. 1. 0. 0. 1.]\n",
      " [1. 2. 3. 4. 6. 9.]]\n"
     ]
    }
   ],
   "source": [
    "#degree = 2인 2차 다항식으로 변환하기 위해 PolynomialFeatures를 이용해 변환\n",
    "poly=PolynomialFeatures(degree=2)\n",
    "poly.fit(X)\n",
    "poly_ftr = poly.transform(X) #[1, x1, x2, x1^2, x1*x2, x2^2] 형태로 변환 (1은 bias)\n",
    "print(\"변환된 2차 다항식 계수 피처: \",poly_ftr) "
   ]
  },
  {
   "cell_type": "code",
   "execution_count": 96,
   "metadata": {},
   "outputs": [],
   "source": [
    "def polynomial_func(X):\n",
    "    y= 1 + 2*X[:,0] + 3*X[:,0]**2 + 4*X[:,1]**3\n",
    "    return y"
   ]
  },
  {
   "cell_type": "code",
   "execution_count": 85,
   "metadata": {},
   "outputs": [
    {
     "name": "stdout",
     "output_type": "stream",
     "text": [
      "일차 단항식 계수 feature:\n",
      " [[0 1]\n",
      " [2 3]]\n",
      "삼차 다항식 결정값:\n",
      "  [  5 125]\n"
     ]
    }
   ],
   "source": [
    "X= np.arange(4).reshape(2,2)\n",
    "print('일차 단항식 계수 feature:\\n',X)\n",
    "y= polynomial_func(X)\n",
    "print('삼차 다항식 결정값:\\n ',y)"
   ]
  },
  {
   "cell_type": "code",
   "execution_count": 92,
   "metadata": {},
   "outputs": [
    {
     "name": "stdout",
     "output_type": "stream",
     "text": [
      "3차 다항식 계수 feature: \n",
      " [[ 1.  0.  1.  0.  0.  1.  0.  0.  0.  1.]\n",
      " [ 1.  2.  3.  4.  6.  9.  8. 12. 18. 27.]]\n",
      "\n",
      "Polynomial 회귀 계수\n",
      " [0.   0.18 0.18 0.36 0.54 0.72 0.72 1.08 1.62 2.34]\n",
      "\n",
      "Polynomial 회귀 Shape: (10,)\n"
     ]
    }
   ],
   "source": [
    "#3차 다항식 변환\n",
    "poly_ftr= PolynomialFeatures(degree=3).fit_transform(X)\n",
    "print('3차 다항식 계수 feature: \\n', poly_ftr)\n",
    "\n",
    "#Linear Regression에 3차 다항식 계수 feature와 3차 다항식 결정값으로 학습 후 회귀 계수 확인\n",
    "model = LinearRegression()\n",
    "model.fit(poly_ftr, y)\n",
    "print('\\nPolynomial 회귀 계수\\n', np.round(model.coef_,2)) #coef_ 회귀계수만 \n",
    "print('\\nPolynomial 회귀 Shape:',model.coef_.shape)"
   ]
  },
  {
   "cell_type": "code",
   "execution_count": 99,
   "metadata": {},
   "outputs": [
    {
     "name": "stdout",
     "output_type": "stream",
     "text": [
      "Polynomial 회귀 계수 \n",
      " [0.   0.18 0.18 0.36 0.54 0.72 0.72 1.08 1.62 2.34]\n"
     ]
    }
   ],
   "source": [
    "from sklearn.pipeline import Pipeline\n",
    "\n",
    "#Pipeline객체로 Streamline하게 Polynomial Feature 변환과 Linear Regression을 연결\n",
    "model = Pipeline([('poly',PolynomialFeatures(degree=3)),('linear', LinearRegression())])\n",
    "X= np.arange(4).reshape(2,2)\n",
    "y= polynomial_func(X)\n",
    "\n",
    "model = model.fit(X,y)\n",
    "\n",
    "print('Polynomial 회귀 계수 \\n', np.round(model.named_steps['linear'].coef_,2))"
   ]
  },
  {
   "cell_type": "markdown",
   "metadata": {},
   "source": [
    "- 단항 vs 다항"
   ]
  },
  {
   "cell_type": "code",
   "execution_count": 266,
   "metadata": {},
   "outputs": [],
   "source": [
    "X_ = np.random.randint(0,100,10).reshape(-1,1)\n",
    "y_ = X_+np.arange(10).reshape(-1,1)\n",
    "d= 2 #다항식 차수"
   ]
  },
  {
   "cell_type": "code",
   "execution_count": 267,
   "metadata": {},
   "outputs": [],
   "source": [
    "lr_m,lr_p = LinearRegression(),LinearRegression() #단항 회귀 모델 / 다항 회귀 모델"
   ]
  },
  {
   "cell_type": "code",
   "execution_count": 268,
   "metadata": {},
   "outputs": [
    {
     "data": {
      "text/plain": [
       "LinearRegression()"
      ]
     },
     "execution_count": 268,
     "metadata": {},
     "output_type": "execute_result"
    }
   ],
   "source": [
    "lr_m.fit(X_, y_)"
   ]
  },
  {
   "cell_type": "code",
   "execution_count": 269,
   "metadata": {
    "scrolled": true
   },
   "outputs": [
    {
     "data": {
      "text/plain": [
       "LinearRegression()"
      ]
     },
     "execution_count": 269,
     "metadata": {},
     "output_type": "execute_result"
    }
   ],
   "source": [
    "lr_p.fit(PolynomialFeatures(degree=d).fit_transform(X_),y_)"
   ]
  },
  {
   "cell_type": "code",
   "execution_count": 270,
   "metadata": {},
   "outputs": [],
   "source": [
    "#Test 데이터 생성\n",
    "X_tmp = np.random.randint(0,100,30).reshape(-1,1)\n",
    "y_m = lr_m.predict(X_tmp)\n",
    "y_p = lr_p.predict(PolynomialFeatures(degree=d).fit_transform(X_tmp))"
   ]
  },
  {
   "cell_type": "code",
   "execution_count": 271,
   "metadata": {},
   "outputs": [],
   "source": [
    "pred_m, pred_p = lr_m.predict(X_), lr_p.predict(PolynomialFeatures(degree=d).fit_transform(X_))"
   ]
  },
  {
   "cell_type": "code",
   "execution_count": 272,
   "metadata": {},
   "outputs": [],
   "source": [
    "def mean_squared_error(y,y_pred):\n",
    "    return sum((i-j)**2 for i,j in zip(y,y_pred))/len(y)"
   ]
  },
  {
   "cell_type": "code",
   "execution_count": 273,
   "metadata": {},
   "outputs": [
    {
     "data": {
      "text/plain": [
       "5.480869774092359"
      ]
     },
     "execution_count": 273,
     "metadata": {},
     "output_type": "execute_result"
    }
   ],
   "source": [
    "mean_squared_error(y_,pred_p)[0]"
   ]
  },
  {
   "cell_type": "code",
   "execution_count": 274,
   "metadata": {},
   "outputs": [
    {
     "data": {
      "text/plain": [
       "6.163724281559331"
      ]
     },
     "execution_count": 274,
     "metadata": {},
     "output_type": "execute_result"
    }
   ],
   "source": [
    "mean_squared_error(y_,pred_m)[0]"
   ]
  },
  {
   "cell_type": "code",
   "execution_count": 280,
   "metadata": {},
   "outputs": [
    {
     "data": {
      "image/png": "[encoded data removed]",
      "text/plain": [
       "<Figure size 1080x360 with 1 Axes>"
      ]
     },
     "metadata": {
      "needs_background": "light"
     },
     "output_type": "display_data"
    }
   ],
   "source": [
    "plt.figure(figsize=(15,5))\n",
    "plt.scatter(X_,y_,label=\"training data\")\n",
    "plt.plot(X_tmp, y_m,label=\"mono\",linestyle='--', color = '#11ff44')\n",
    "plt.plot(X_tmp, y_p,label=\"poly\",linestyle=':', color = 'g')\n",
    "plt.legend()\n",
    "plt.show()"
   ]
  }
 ],
 "metadata": {
  "kernelspec": {
   "display_name": "Python 3",
   "language": "python",
   "name": "python3"
  },
  "language_info": {
   "codemirror_mode": {
    "name": "ipython",
    "version": 3
   },
   "file_extension": ".py",
   "mimetype": "text/x-python",
   "name": "python",
   "nbconvert_exporter": "python",
   "pygments_lexer": "ipython3",
   "version": "3.8.3"
  }
 },
 "nbformat": 4,
 "nbformat_minor": 4
}
