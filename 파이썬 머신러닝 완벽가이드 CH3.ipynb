{
 "cells": [
  {
   "cell_type": "code",
   "execution_count": 27,
   "metadata": {},
   "outputs": [],
   "source": [
    "from sklearn.datasets import load_digits\n",
    "from sklearn.model_selection import train_test_split\n",
    "from sklearn.base import BaseEstimator\n",
    "from sklearn.metrics import accuracy_score\n",
    "import numpy as np\n",
    "import pandas as pd\n",
    "from sklearn.preprocessing import LabelEncoder\n",
    "import warnings\n",
    "warnings.filterwarnings(action = 'ignore')"
   ]
  },
  {
   "cell_type": "code",
   "execution_count": 23,
   "metadata": {},
   "outputs": [],
   "source": [
    "#CHapter02  140pg 참고\n",
    "#Titanic 데이터 전처리 함수\n",
    "def fillna(df):\n",
    "    df['Age'].fillna(df['Age'].mean(), inplace=True)\n",
    "    df['Cabin'].fillna('N',inplace = True)\n",
    "    df['Embarked'].fillna('N',inplace = True)\n",
    "    df['Fare'].fillna(0,inplace = True)\n",
    "    return df\n",
    "\n",
    "#불필요한 속성 제거\n",
    "def drop_features(df):\n",
    "    df.drop(['PassengerId','Name','Ticket'], axis= 1, inplace = True)\n",
    "    return df\n",
    "\n",
    "#레이블 인코딩 수행\n",
    "def format_features(df):\n",
    "    df['Cabin'] = df['Cabin'].str[:1]\n",
    "    features=['Cabin','Sex','Embarked']\n",
    "    for feature in features:\n",
    "        le = LabelEncoder()\n",
    "        le = le.fit(df[feature])\n",
    "        df[feature] = le.transform(df[feature])\n",
    "    return df\n",
    "\n",
    "#모든 함수 호출\n",
    "def transform_features(df):\n",
    "    df = fillna(df)\n",
    "    df = drop_features(df)\n",
    "    df = format_features(df)\n",
    "    return df\n",
    "        "
   ]
  },
  {
   "cell_type": "markdown",
   "metadata": {},
   "source": [
    "## MNIST데이터를 변환하여 불균형하게 만든 후 정확도 지표 적용해보기"
   ]
  },
  {
   "cell_type": "code",
   "execution_count": 2,
   "metadata": {},
   "outputs": [],
   "source": [
    "class MyFakeClassifier(BaseEstimator):\n",
    "    def fit(self, X,y):\n",
    "        pass\n",
    "    \n",
    "    #입력값으로 들어오는 X데이터 세트의 크기만큼 모두 0값으로 만들어서 반환\n",
    "    def predict(self, X):\n",
    "        return np.zeros((len(X),1), dtype = bool)"
   ]
  },
  {
   "cell_type": "code",
   "execution_count": 4,
   "metadata": {},
   "outputs": [],
   "source": [
    "digits = load_digits()#데이터 로딩\n",
    "#digits번호가 7번이면 True고 이를 astype(int)로 1로 변환, 7번이 아니면 False이고 0으로 변환\n",
    "y=(digits.target==7).astype(int)\n",
    "X_train, X_test, y_train, y_test = train_test_split(digits.data, y,random_state = 11)"
   ]
  },
  {
   "cell_type": "code",
   "execution_count": 5,
   "metadata": {},
   "outputs": [
    {
     "name": "stdout",
     "output_type": "stream",
     "text": [
      "레이블 테스트 세트 크기: (450,)\n",
      "테스트 세트 레이블 0과 1의 분포도\n",
      "0    405\n",
      "1     45\n",
      "dtype: int64\n"
     ]
    }
   ],
   "source": [
    "#불균형한 레이블 데이터 분포도 확인\n",
    "print(\"레이블 테스트 세트 크기:\",y_test.shape)\n",
    "print(\"테스트 세트 레이블 0과 1의 분포도\")\n",
    "print(pd.Series(y_test).value_counts())"
   ]
  },
  {
   "cell_type": "code",
   "execution_count": 12,
   "metadata": {},
   "outputs": [
    {
     "name": "stdout",
     "output_type": "stream",
     "text": [
      "모든 예측을 0으로 하였을 때 정확도:  0.9\n"
     ]
    }
   ],
   "source": [
    "#Dummy Clasifier로 학습/예측/정확도 평가\n",
    "fakeclf = MyFakeClassifier()\n",
    "fakeclf.fit(X_train,y_train)\n",
    "fakepred=fakeclf.predict(X_test)\n",
    "print(\"모든 예측을 0으로 하였을 때 정확도: \", accuracy_score(y_test,fakepred))"
   ]
  },
  {
   "cell_type": "markdown",
   "metadata": {},
   "source": [
    "-----------\n",
    "-> 모두 0(False)으로 반환해도 데이터의 불균형 때문에 정확도가 0.9씩이나 나온다."
   ]
  },
  {
   "cell_type": "markdown",
   "metadata": {},
   "source": [
    "## 오차행렬"
   ]
  },
  {
   "cell_type": "code",
   "execution_count": 11,
   "metadata": {},
   "outputs": [
    {
     "data": {
      "text/plain": [
       "array([[405,   0],\n",
       "       [ 45,   0]], dtype=int64)"
      ]
     },
     "execution_count": 11,
     "metadata": {},
     "output_type": "execute_result"
    }
   ],
   "source": [
    "from sklearn.metrics import confusion_matrix\n",
    "confusion_matrix(y_test, fakepred)"
   ]
  },
  {
   "cell_type": "code",
   "execution_count": 7,
   "metadata": {},
   "outputs": [],
   "source": [
    "from sklearn.metrics import precision_score, accuracy_score, recall_score, confusion_matrix"
   ]
  },
  {
   "cell_type": "code",
   "execution_count": 13,
   "metadata": {},
   "outputs": [],
   "source": [
    "def get_clf_eval(y_test, pred):\n",
    "    confusion = confusion_matrix(y_test, pred)\n",
    "    accuracy = accuracy_score(y_test, pred)\n",
    "    precision = precision_score(y_test, pred)\n",
    "    recall = recall_score(y_test, pred)\n",
    "    print(\"오차 행렬\")\n",
    "    print(confusion)\n",
    "    print(\"정확도: {0:.4f}, 정밀도: {1:.4f}, 재현율: {2:.4f}\".format(accuracy, precision, recall))"
   ]
  },
  {
   "cell_type": "code",
   "execution_count": 24,
   "metadata": {},
   "outputs": [],
   "source": [
    "from sklearn.linear_model import LogisticRegression\n",
    "#원본 데이터를 재로딩, 데이터 가공, 학습 데이터/테스트 데이터 분할\n",
    "titanic_df=pd.read_csv('./Titanic/train.csv')\n",
    "y_titanic_df = titanic_df['Survived']\n",
    "X_titanic_df = titanic_df.drop('Survived',axis=1)\n",
    "X_titanic_df = transform_features(X_titanic_df)"
   ]
  },
  {
   "cell_type": "code",
   "execution_count": 25,
   "metadata": {},
   "outputs": [],
   "source": [
    "X_train, X_test, y_train, y_test = train_test_split(X_titanic_df, y_titanic_df,test_size=0.3, random_state = 12)"
   ]
  },
  {
   "cell_type": "code",
   "execution_count": 33,
   "metadata": {},
   "outputs": [
    {
     "name": "stdout",
     "output_type": "stream",
     "text": [
      "오차 행렬\n",
      "[[137  24]\n",
      " [ 37  70]]\n",
      "정확도: 0.7724, 정밀도: 0.7447, 재현율: 0.6542\n"
     ]
    }
   ],
   "source": [
    "lr_clf = LogisticRegression()\n",
    "lr_clf.fit(X_train,y_train)\n",
    "pred = lr_clf.predict(X_test)#default threshold = 0.5\n",
    "get_clf_eval(y_test,pred)"
   ]
  },
  {
   "cell_type": "code",
   "execution_count": 34,
   "metadata": {},
   "outputs": [
    {
     "data": {
      "text/plain": [
       "(268,)"
      ]
     },
     "execution_count": 34,
     "metadata": {},
     "output_type": "execute_result"
    }
   ],
   "source": [
    "pred.shape"
   ]
  },
  {
   "cell_type": "code",
   "execution_count": 36,
   "metadata": {},
   "outputs": [
    {
     "data": {
      "text/plain": [
       "(268, 1)"
      ]
     },
     "execution_count": 36,
     "metadata": {},
     "output_type": "execute_result"
    }
   ],
   "source": [
    "pred.reshape(-1,1).shape#1차원은 그대로, 2차원은 1"
   ]
  },
  {
   "cell_type": "code",
   "execution_count": 31,
   "metadata": {},
   "outputs": [],
   "source": [
    "pred_proba=lr_clf.predict_proba(X_test)"
   ]
  },
  {
   "cell_type": "code",
   "execution_count": 32,
   "metadata": {},
   "outputs": [
    {
     "data": {
      "text/plain": [
       "(268, 2)"
      ]
     },
     "execution_count": 32,
     "metadata": {},
     "output_type": "execute_result"
    }
   ],
   "source": [
    "pred_proba.shape"
   ]
  },
  {
   "cell_type": "code",
   "execution_count": 39,
   "metadata": {},
   "outputs": [
    {
     "data": {
      "text/plain": [
       "array([[0.80132965, 0.19867035, 0.        ],\n",
       "       [0.5674247 , 0.4325753 , 0.        ],\n",
       "       [0.85847312, 0.14152688, 0.        ],\n",
       "       [0.63930854, 0.36069146, 0.        ],\n",
       "       [0.8580886 , 0.1419114 , 0.        ]])"
      ]
     },
     "execution_count": 39,
     "metadata": {},
     "output_type": "execute_result"
    }
   ],
   "source": [
    "pred_proba_result = np.concatenate([pred_proba,pred.reshape(-1,1)],axis =1)\n",
    "pred_proba_result[:5]\n",
    "#두 컬럼 중 더 큰 확률을 클래스 값으로 예측"
   ]
  },
  {
   "cell_type": "markdown",
   "metadata": {},
   "source": [
    "### 재현율을 높여보자"
   ]
  },
  {
   "cell_type": "markdown",
   "metadata": {},
   "source": [
    "#### 알아야 할 개념\n",
    "predict() 메서드는 predict_proba()메서드에 기반해 생성된 API이다.<br>\n",
    "predict_proba() 호출 결과로 반환된 배열에서 분류 결정 임계값(0.5)보다 큰 값들이 들어 있는 <br>\n",
    "칼럼의 위치(첫번째 or 두번째)를 받아서 최종적으로 예측 클래스를 결정한다. <br><br>"
   ]
  },
  {
   "cell_type": "markdown",
   "metadata": {},
   "source": [
    "- 방법 1"
   ]
  },
  {
   "cell_type": "code",
   "execution_count": 43,
   "metadata": {},
   "outputs": [
    {
     "name": "stdout",
     "output_type": "stream",
     "text": [
      "오차 행렬\n",
      "[[131  30]\n",
      " [ 31  76]]\n",
      "정확도: 0.7724, 정밀도: 0.7170, 재현율: 0.7103\n"
     ]
    }
   ],
   "source": [
    "pred2 = (pred_proba[:,1]>0.4).astype(bool) #threshold = 0.4\n",
    "get_clf_eval(y_test,pred2)"
   ]
  },
  {
   "cell_type": "markdown",
   "metadata": {},
   "source": [
    "- 방법 2"
   ]
  },
  {
   "cell_type": "code",
   "execution_count": 42,
   "metadata": {},
   "outputs": [
    {
     "name": "stdout",
     "output_type": "stream",
     "text": [
      "[[0. 0. 1.]\n",
      " [1. 0. 0.]\n",
      " [0. 0. 1.]]\n"
     ]
    }
   ],
   "source": [
    "from sklearn.preprocessing import Binarizer\n",
    "X= [[1,-1,2],\n",
    "    [2,0,0],\n",
    "    [0,1.1,1.2]]\n",
    "\n",
    "#X의 개별 원소들이 threshold값보다 같거나 작으면 0, 크면 1 반환\n",
    "binarizer = Binarizer(threshold = 1.1)\n",
    "print(binarizer.fit_transform(X))"
   ]
  },
  {
   "cell_type": "code",
   "execution_count": 73,
   "metadata": {},
   "outputs": [
    {
     "name": "stdout",
     "output_type": "stream",
     "text": [
      "threshold:  0.45\n",
      "오차 행렬\n",
      "[[136  25]\n",
      " [ 33  74]]\n",
      "정확도: 0.7836, 정밀도: 0.7475, 재현율: 0.6916\n",
      "\n",
      "threshold:  0.43\n",
      "오차 행렬\n",
      "[[134  27]\n",
      " [ 33  74]]\n",
      "정확도: 0.7761, 정밀도: 0.7327, 재현율: 0.6916\n",
      "\n",
      "threshold:  0.4\n",
      "오차 행렬\n",
      "[[131  30]\n",
      " [ 31  76]]\n",
      "정확도: 0.7724, 정밀도: 0.7170, 재현율: 0.7103\n",
      "\n",
      "threshold:  0.38\n",
      "오차 행렬\n",
      "[[128  33]\n",
      " [ 29  78]]\n",
      "정확도: 0.7687, 정밀도: 0.7027, 재현율: 0.7290\n",
      "\n"
     ]
    }
   ],
   "source": [
    "for thr in [0.45,0.43,0.4,0.38]:\n",
    "    binarizer=Binarizer(threshold = thr)\n",
    "    print(\"threshold: \",thr)\n",
    "    get_clf_eval(y_test,binarizer.fit_transform(pred_proba[:,1].reshape(-1,1)))\n",
    "    print(\"\")"
   ]
  },
  {
   "cell_type": "markdown",
   "metadata": {},
   "source": [
    "## Precision과 Recall의 Trade-off 관계"
   ]
  },
  {
   "cell_type": "code",
   "execution_count": 64,
   "metadata": {},
   "outputs": [],
   "source": [
    "import matplotlib.pyplot as plt\n",
    "import matplotlib.ticker as ticker\n",
    "%matplotlib inline"
   ]
  },
  {
   "cell_type": "code",
   "execution_count": 159,
   "metadata": {},
   "outputs": [],
   "source": [
    "from sklearn.metrics import precision_recall_curve\n",
    "def precision_recall_curve_plot(y_test, pred_proba):\n",
    "    precision,recall,thresholds = precision_recall_curve(y_test, pred_proba)\n",
    "    plt.figure(figsize=(8,6))\n",
    "    threshold_b = thresholds.shape[0]\n",
    "    plt.plot(thresholds, precision[0:threshold_b], linestyle ='--', label =\"precision\" , color='r')\n",
    "    plt.plot(thresholds, recall[0:threshold_b],label=\"recall\", linestyle=':',color='g')\n",
    "    start, end = plt.xlim()\n",
    "    plt.legend()\n",
    "    plt.xticks(np.round(np.arange(start,end)))"
   ]
  },
  {
   "cell_type": "code",
   "execution_count": 160,
   "metadata": {},
   "outputs": [
    {
     "data": {
      "image/png": "[encoded data removed]",
      "text/plain": [
       "<Figure size 576x432 with 1 Axes>"
      ]
     },
     "metadata": {
      "needs_background": "light"
     },
     "output_type": "display_data"
    }
   ],
   "source": [
    "precision_recall_curve_plot(y_test, pred_proba[:,1])"
   ]
  },
  {
   "cell_type": "markdown",
   "metadata": {},
   "source": [
    "## F1 Score"
   ]
  },
  {
   "cell_type": "code",
   "execution_count": 147,
   "metadata": {},
   "outputs": [],
   "source": [
    "def get_clf_eval(y_test, pred):\n",
    "    confusion = confusion_matrix(y_test, pred)\n",
    "    accuracy = accuracy_score(y_test, pred)\n",
    "    precision = precision_score(y_test, pred)\n",
    "    recall = recall_score(y_test, pred)\n",
    "    print(\"오차 행렬\")\n",
    "    print(confusion)\n",
    "    print(\"정확도: {0:.4f}, 정밀도: {1:.4f}, 재현율: {2:.4f}, F1 score: {3:4f},\\n |prec-rec|: {4:4f}, prec*rec: {5:4f}, p+c: {6:4f}, */+:{7:4f}\".format(\n",
    "        accuracy, precision, recall, 2*(precision*recall)/(precision+recall), abs(precision-recall), precision*recall,precision+recall,precision*recall/(precision+recall)))"
   ]
  },
  {
   "cell_type": "code",
   "execution_count": 148,
   "metadata": {},
   "outputs": [
    {
     "name": "stdout",
     "output_type": "stream",
     "text": [
      "threshold:  0.45\n",
      "오차 행렬\n",
      "[[136  25]\n",
      " [ 33  74]]\n",
      "정확도: 0.7836, 정밀도: 0.7475, 재현율: 0.6916, F1 score: 0.718447,\n",
      " |prec-rec|: 0.055886, prec*rec: 0.516945, p+c: 1.439064, */+:0.359223\n",
      "\n",
      "threshold:  0.43\n",
      "오차 행렬\n",
      "[[134  27]\n",
      " [ 33  74]]\n",
      "정확도: 0.7761, 정밀도: 0.7327, 재현율: 0.6916, F1 score: 0.711538,\n",
      " |prec-rec|: 0.041084, prec*rec: 0.506709, p+c: 1.424262, */+:0.355769\n",
      "\n",
      "threshold:  0.4\n",
      "오차 행렬\n",
      "[[131  30]\n",
      " [ 31  76]]\n",
      "정확도: 0.7724, 정밀도: 0.7170, 재현율: 0.7103, F1 score: 0.713615,\n",
      " |prec-rec|: 0.006701, prec*rec: 0.509258, p+c: 1.427262, */+:0.356808\n",
      "\n",
      "threshold:  0.38\n",
      "오차 행렬\n",
      "[[128  33]\n",
      " [ 29  78]]\n",
      "정확도: 0.7687, 정밀도: 0.7027, 재현율: 0.7290, F1 score: 0.715596,\n",
      " |prec-rec|: 0.026269, prec*rec: 0.512251, p+c: 1.431675, */+:0.357798\n",
      "\n"
     ]
    }
   ],
   "source": [
    "for thr in [0.45,0.43,0.4,0.38]:\n",
    "    binarizer=Binarizer(threshold = thr)\n",
    "    print(\"threshold: \",thr)\n",
    "    get_clf_eval(y_test,binarizer.fit_transform(pred_proba[:,1].reshape(-1,1)))\n",
    "    print(\"\")"
   ]
  },
  {
   "cell_type": "markdown",
   "metadata": {},
   "source": [
    "------\n",
    "F1 = 2 * (precision * recall) / (precision + recall)<br>\n",
    "--> precision과 recall이 어느 한쪽으로 치우치지 않는 수치를 나타낼 때 상대적으로 높은 값을 가진다."
   ]
  },
  {
   "cell_type": "markdown",
   "metadata": {},
   "source": [
    "## ROC곡선과 AUC"
   ]
  },
  {
   "cell_type": "code",
   "execution_count": 201,
   "metadata": {},
   "outputs": [],
   "source": [
    "from sklearn.metrics import roc_curve,roc_auc_score\n",
    "def draw_ROC(y_test, pred, thres):\n",
    "    aucc = np.round(roc_auc_score(y_test, pred),4)\n",
    "    plt.title(f\"threshold:{thres},  AUC: {aucc} \",size=15)\n",
    "    fpr,tpr,thres = roc_curve(y_test, pred)\n",
    "    plt.plot(fpr,tpr,'k--',color='hotpink')\n",
    "    start,end = plt.xlim()\n",
    "    plt.xticks(np.round(np.arange(start, end,0.1),2)) # x축 0.1씩 끊어 보기\n",
    "    plt.xlabel('FPR(1-TNR)')\n",
    "    plt.ylabel('TPR')"
   ]
  },
  {
   "cell_type": "code",
   "execution_count": 202,
   "metadata": {},
   "outputs": [
    {
     "data": {
      "image/png": "[encoded data removed]",
      "text/plain": [
       "<Figure size 1440x720 with 4 Axes>"
      ]
     },
     "metadata": {
      "needs_background": "light"
     },
     "output_type": "display_data"
    }
   ],
   "source": [
    "plt.figure(figsize=(20,10))\n",
    "for e,thr in enumerate([0.45,0.43,0.4,0.38],1):\n",
    "    plt.subplots_adjust(top=1.2)\n",
    "    plt.subplot(2,2,e)\n",
    "    binarizer=Binarizer(threshold = thr)\n",
    "    draw_ROC(y_test, binarizer.fit_transform(pred_proba[:,1].reshape(-1,1)),thr)"
   ]
  },
  {
   "cell_type": "markdown",
   "metadata": {},
   "source": [
    "-------\n",
    "ROC곡선은 FPR과 TPR의 변화 값을 보는 데 이용하며, \n",
    "<br>\n",
    "분류의 성능 지표로 사용되는 것은 ROC곡선 면적에 기반한 AUC(Area Under Curve)값으로 결정한다."
   ]
  }
 ],
 "metadata": {
  "kernelspec": {
   "display_name": "Python 3",
   "language": "python",
   "name": "python3"
  },
  "language_info": {
   "codemirror_mode": {
    "name": "ipython",
    "version": 3
   },
   "file_extension": ".py",
   "mimetype": "text/x-python",
   "name": "python",
   "nbconvert_exporter": "python",
   "pygments_lexer": "ipython3",
   "version": "3.8.3"
  }
 },
 "nbformat": 4,
 "nbformat_minor": 4
}
