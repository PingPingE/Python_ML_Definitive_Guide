{
 "cells": [
  {
   "cell_type": "code",
   "execution_count": 7,
   "metadata": {},
   "outputs": [],
   "source": [
    "from sklearn.datasets import load_iris\n",
    "import pandas as pd\n",
    "import numpy as np\n",
    "import matplotlib.pyplot as plt\n",
    "%matplotlib inline"
   ]
  },
  {
   "cell_type": "code",
   "execution_count": 8,
   "metadata": {},
   "outputs": [],
   "source": [
    "iris = load_iris()\n",
    "columns = ['sepal_length', 'sepal_width', 'petal_length', 'petal_width']\n",
    "irisDF = pd.DataFrame(iris.data, columns = columns )"
   ]
  },
  {
   "cell_type": "code",
   "execution_count": 9,
   "metadata": {},
   "outputs": [
    {
     "data": {
      "text/html": [
       "<div>\n",
       "<style scoped>\n",
       "    .dataframe tbody tr th:only-of-type {\n",
       "        vertical-align: middle;\n",
       "    }\n",
       "\n",
       "    .dataframe tbody tr th {\n",
       "        vertical-align: top;\n",
       "    }\n",
       "\n",
       "    .dataframe thead th {\n",
       "        text-align: right;\n",
       "    }\n",
       "</style>\n",
       "<table border=\"1\" class=\"dataframe\">\n",
       "  <thead>\n",
       "    <tr style=\"text-align: right;\">\n",
       "      <th></th>\n",
       "      <th>sepal_length</th>\n",
       "      <th>sepal_width</th>\n",
       "      <th>petal_length</th>\n",
       "      <th>petal_width</th>\n",
       "      <th>target</th>\n",
       "    </tr>\n",
       "  </thead>\n",
       "  <tbody>\n",
       "    <tr>\n",
       "      <th>0</th>\n",
       "      <td>5.1</td>\n",
       "      <td>3.5</td>\n",
       "      <td>1.4</td>\n",
       "      <td>0.2</td>\n",
       "      <td>0</td>\n",
       "    </tr>\n",
       "    <tr>\n",
       "      <th>1</th>\n",
       "      <td>4.9</td>\n",
       "      <td>3.0</td>\n",
       "      <td>1.4</td>\n",
       "      <td>0.2</td>\n",
       "      <td>0</td>\n",
       "    </tr>\n",
       "    <tr>\n",
       "      <th>2</th>\n",
       "      <td>4.7</td>\n",
       "      <td>3.2</td>\n",
       "      <td>1.3</td>\n",
       "      <td>0.2</td>\n",
       "      <td>0</td>\n",
       "    </tr>\n",
       "    <tr>\n",
       "      <th>3</th>\n",
       "      <td>4.6</td>\n",
       "      <td>3.1</td>\n",
       "      <td>1.5</td>\n",
       "      <td>0.2</td>\n",
       "      <td>0</td>\n",
       "    </tr>\n",
       "    <tr>\n",
       "      <th>4</th>\n",
       "      <td>5.0</td>\n",
       "      <td>3.6</td>\n",
       "      <td>1.4</td>\n",
       "      <td>0.2</td>\n",
       "      <td>0</td>\n",
       "    </tr>\n",
       "    <tr>\n",
       "      <th>...</th>\n",
       "      <td>...</td>\n",
       "      <td>...</td>\n",
       "      <td>...</td>\n",
       "      <td>...</td>\n",
       "      <td>...</td>\n",
       "    </tr>\n",
       "    <tr>\n",
       "      <th>145</th>\n",
       "      <td>6.7</td>\n",
       "      <td>3.0</td>\n",
       "      <td>5.2</td>\n",
       "      <td>2.3</td>\n",
       "      <td>2</td>\n",
       "    </tr>\n",
       "    <tr>\n",
       "      <th>146</th>\n",
       "      <td>6.3</td>\n",
       "      <td>2.5</td>\n",
       "      <td>5.0</td>\n",
       "      <td>1.9</td>\n",
       "      <td>2</td>\n",
       "    </tr>\n",
       "    <tr>\n",
       "      <th>147</th>\n",
       "      <td>6.5</td>\n",
       "      <td>3.0</td>\n",
       "      <td>5.2</td>\n",
       "      <td>2.0</td>\n",
       "      <td>2</td>\n",
       "    </tr>\n",
       "    <tr>\n",
       "      <th>148</th>\n",
       "      <td>6.2</td>\n",
       "      <td>3.4</td>\n",
       "      <td>5.4</td>\n",
       "      <td>2.3</td>\n",
       "      <td>2</td>\n",
       "    </tr>\n",
       "    <tr>\n",
       "      <th>149</th>\n",
       "      <td>5.9</td>\n",
       "      <td>3.0</td>\n",
       "      <td>5.1</td>\n",
       "      <td>1.8</td>\n",
       "      <td>2</td>\n",
       "    </tr>\n",
       "  </tbody>\n",
       "</table>\n",
       "<p>150 rows × 5 columns</p>\n",
       "</div>"
      ],
      "text/plain": [
       "     sepal_length  sepal_width  petal_length  petal_width  target\n",
       "0             5.1          3.5           1.4          0.2       0\n",
       "1             4.9          3.0           1.4          0.2       0\n",
       "2             4.7          3.2           1.3          0.2       0\n",
       "3             4.6          3.1           1.5          0.2       0\n",
       "4             5.0          3.6           1.4          0.2       0\n",
       "..            ...          ...           ...          ...     ...\n",
       "145           6.7          3.0           5.2          2.3       2\n",
       "146           6.3          2.5           5.0          1.9       2\n",
       "147           6.5          3.0           5.2          2.0       2\n",
       "148           6.2          3.4           5.4          2.3       2\n",
       "149           5.9          3.0           5.1          1.8       2\n",
       "\n",
       "[150 rows x 5 columns]"
      ]
     },
     "execution_count": 9,
     "metadata": {},
     "output_type": "execute_result"
    }
   ],
   "source": [
    "irisDF['target'] = iris.target\n",
    "irisDF"
   ]
  },
  {
   "cell_type": "markdown",
   "metadata": {},
   "source": [
    "------\n",
    "- caseno: 일련번호이다. (1부터 150까지 입력된다.)\n",
    "- sepal_length:\t꽃받침의 길이 정보이다.\n",
    "- sepal_width:\t꽃받침의 너비 정보이다.\n",
    "- petal_length:\t꽃잎의 길이 정보이다.\n",
    "- petal_width:\t꽃잎의 너비 정보이다.  \n",
    "- species: 꽃의 종류 정보이다.  setosa / versicolor / virginica 의 3종류로 구분된다."
   ]
  },
  {
   "cell_type": "code",
   "execution_count": 12,
   "metadata": {},
   "outputs": [
    {
     "data": {
      "image/png": "[encoded data removed]",
      "text/plain": [
       "<Figure size 720x360 with 1 Axes>"
      ]
     },
     "metadata": {
      "needs_background": "light"
     },
     "output_type": "display_data"
    }
   ],
   "source": [
    "#setosa: 삼각, versicolor: 사각, virginica: 원\n",
    "markers = ['^', 's','o']\n",
    "plt.figure(figsize=(10,5))\n",
    "#setosa:0, versicolor:1, virginica:2\n",
    "for i, marker in enumerate(markers):\n",
    "    x_axis_data= irisDF[irisDF['target']==i]['sepal_length']\n",
    "    y_axis_data= irisDF[irisDF['target']==i]['sepal_width']\n",
    "    plt.scatter(x_axis_data, y_axis_data, marker =marker, label = iris.target_names[i])\n",
    "\n",
    "plt.legend()\n",
    "plt.xlabel('sepal length')\n",
    "plt.ylabel('sepal width')\n",
    "plt.show()"
   ]
  },
  {
   "cell_type": "markdown",
   "metadata": {},
   "source": [
    "-------\n",
    "- setosa품종은 sepal length가 6.0 이하이고 width가 3.0 이상인 곳에 일정하게 분포되어있는 것을 알 수 있다.\n",
    "- versicolor와 virginica는 이 두가지 피처로는 분류가 어려운 복잡한 조건임을 알 수 있다."
   ]
  },
  {
   "cell_type": "markdown",
   "metadata": {},
   "source": [
    "# PCA(Principal Component Analysis)"
   ]
  },
  {
   "cell_type": "markdown",
   "metadata": {},
   "source": [
    "- 4개의 속성을 2개로 압축하기"
   ]
  },
  {
   "cell_type": "code",
   "execution_count": 15,
   "metadata": {},
   "outputs": [],
   "source": [
    "from sklearn.preprocessing import StandardScaler\n",
    "from sklearn.decomposition import PCA\n",
    "\n",
    "pca = PCA(n_components = 2) #차원의 수\n",
    "iris_scaled = StandardScaler().fit_transform(irisDF.iloc[:,:-1])"
   ]
  },
  {
   "cell_type": "code",
   "execution_count": 17,
   "metadata": {},
   "outputs": [
    {
     "name": "stdout",
     "output_type": "stream",
     "text": [
      "(150, 2)\n"
     ]
    }
   ],
   "source": [
    "pca.fit(iris_scaled)\n",
    "iris_pca = pca.transform(iris_scaled)\n",
    "print(iris_pca.shape)"
   ]
  },
  {
   "cell_type": "code",
   "execution_count": 18,
   "metadata": {},
   "outputs": [],
   "source": [
    "pca_columns = ['pca_component1', 'pca_component2']\n",
    "irisDF_pca = pd.DataFrame(iris_pca, columns = pca_columns)"
   ]
  },
  {
   "cell_type": "code",
   "execution_count": 19,
   "metadata": {},
   "outputs": [
    {
     "data": {
      "text/html": [
       "<div>\n",
       "<style scoped>\n",
       "    .dataframe tbody tr th:only-of-type {\n",
       "        vertical-align: middle;\n",
       "    }\n",
       "\n",
       "    .dataframe tbody tr th {\n",
       "        vertical-align: top;\n",
       "    }\n",
       "\n",
       "    .dataframe thead th {\n",
       "        text-align: right;\n",
       "    }\n",
       "</style>\n",
       "<table border=\"1\" class=\"dataframe\">\n",
       "  <thead>\n",
       "    <tr style=\"text-align: right;\">\n",
       "      <th></th>\n",
       "      <th>pca_component1</th>\n",
       "      <th>pca_component2</th>\n",
       "      <th>target</th>\n",
       "    </tr>\n",
       "  </thead>\n",
       "  <tbody>\n",
       "    <tr>\n",
       "      <th>0</th>\n",
       "      <td>-2.264703</td>\n",
       "      <td>0.480027</td>\n",
       "      <td>0</td>\n",
       "    </tr>\n",
       "    <tr>\n",
       "      <th>1</th>\n",
       "      <td>-2.080961</td>\n",
       "      <td>-0.674134</td>\n",
       "      <td>0</td>\n",
       "    </tr>\n",
       "    <tr>\n",
       "      <th>2</th>\n",
       "      <td>-2.364229</td>\n",
       "      <td>-0.341908</td>\n",
       "      <td>0</td>\n",
       "    </tr>\n",
       "    <tr>\n",
       "      <th>3</th>\n",
       "      <td>-2.299384</td>\n",
       "      <td>-0.597395</td>\n",
       "      <td>0</td>\n",
       "    </tr>\n",
       "    <tr>\n",
       "      <th>4</th>\n",
       "      <td>-2.389842</td>\n",
       "      <td>0.646835</td>\n",
       "      <td>0</td>\n",
       "    </tr>\n",
       "  </tbody>\n",
       "</table>\n",
       "</div>"
      ],
      "text/plain": [
       "   pca_component1  pca_component2  target\n",
       "0       -2.264703        0.480027       0\n",
       "1       -2.080961       -0.674134       0\n",
       "2       -2.364229       -0.341908       0\n",
       "3       -2.299384       -0.597395       0\n",
       "4       -2.389842        0.646835       0"
      ]
     },
     "execution_count": 19,
     "metadata": {},
     "output_type": "execute_result"
    }
   ],
   "source": [
    "irisDF_pca['target'] = irisDF['target']\n",
    "irisDF_pca.head()"
   ]
  },
  {
   "cell_type": "code",
   "execution_count": 22,
   "metadata": {},
   "outputs": [
    {
     "data": {
      "image/png": "[encoded data removed]",
      "text/plain": [
       "<Figure size 720x360 with 1 Axes>"
      ]
     },
     "metadata": {
      "needs_background": "light"
     },
     "output_type": "display_data"
    }
   ],
   "source": [
    "#setosa: 삼각, versicolor: 사각, virginica: 원\n",
    "markers = ['^', 's','o']\n",
    "plt.figure(figsize=(10,5))\n",
    "#setosa:0, versicolor:1, virginica:2\n",
    "for i, marker in enumerate(markers):\n",
    "    x_axis_data= irisDF_pca[irisDF_pca['target']==i]['pca_component1']\n",
    "    y_axis_data= irisDF_pca[irisDF_pca['target']==i]['pca_component2']\n",
    "    plt.scatter(x_axis_data, y_axis_data, marker =marker, label = iris.target_names[i])\n",
    "\n",
    "plt.legend()\n",
    "plt.xlabel('pca_component1')\n",
    "plt.ylabel('pca_component2')\n",
    "plt.show()"
   ]
  },
  {
   "cell_type": "markdown",
   "metadata": {},
   "source": [
    "-------\n",
    "- pca_component1축을 기반으로 setosa 품종은 명확하게 구분 가능하다.\n",
    "- versicolor와 virginica는 pca_component1축을 기반으로 서로 겹치는 부분이 일부 존재하지만 차원 축소 전 보다는 잘 구분된다.\n",
    "\n",
    "--> pca_component1이 원본 데이터의 변동성을 잘 반영했다. "
   ]
  },
  {
   "cell_type": "markdown",
   "metadata": {},
   "source": [
    "<br>\n",
    "\n",
    "- component별로 원본 데이터의 변동성을 얼마나 반영하고 있는지 확인"
   ]
  },
  {
   "cell_type": "code",
   "execution_count": 50,
   "metadata": {},
   "outputs": [
    {
     "name": "stdout",
     "output_type": "stream",
     "text": [
      "[0.72962445 0.22850762]\n",
      "0.9581320720000164\n"
     ]
    }
   ],
   "source": [
    "print(pca.explained_variance_ratio_)\n",
    "print(sum(pca.explained_variance_ratio_))"
   ]
  },
  {
   "cell_type": "markdown",
   "metadata": {},
   "source": [
    "-----\n",
    "- component1이 전체 변동성의 약 72.9%를 차지한다. \n",
    "- component2는 전체 변동성의 약 22.8%를 차지한다.\n",
    "\n",
    "\n",
    "--> 따라서 pca를 2개의 요소로만 변환해도 원본 데이터의 변동성을 약 95.8%를 설명할 수 있다는 것이다."
   ]
  },
  {
   "cell_type": "markdown",
   "metadata": {},
   "source": [
    "<br><br>\n",
    "\n",
    "# Modeling & Evaluation"
   ]
  },
  {
   "cell_type": "code",
   "execution_count": 25,
   "metadata": {},
   "outputs": [],
   "source": [
    "from sklearn.ensemble import RandomForestClassifier\n",
    "from sklearn.model_selection import cross_val_score\n",
    "import numpy as np"
   ]
  },
  {
   "cell_type": "code",
   "execution_count": 37,
   "metadata": {},
   "outputs": [
    {
     "name": "stdout",
     "output_type": "stream",
     "text": [
      "원본 데이터 교차 검증 개별 정확도:  [1.         0.93333333 1.         0.93333333 0.93333333 0.93333333\n",
      " 0.86666667 1.         1.         1.        ]\n",
      "원본 데이터 평균 정확도:  0.96\n"
     ]
    }
   ],
   "source": [
    "rcf = RandomForestClassifier(random_state=156)\n",
    "scores = cross_val_score(rcf, iris.data, iris.target, scoring='accuracy', cv=10)\n",
    "print('원본 데이터 교차 검증 개별 정확도: ',scores)\n",
    "print('원본 데이터 평균 정확도: ',np.mean(scores))"
   ]
  },
  {
   "cell_type": "code",
   "execution_count": 36,
   "metadata": {},
   "outputs": [
    {
     "name": "stdout",
     "output_type": "stream",
     "text": [
      "pca 변환 데이터 교차 검증 개별 정확도:  [0.8        0.86666667 0.93333333 0.93333333 0.86666667 0.8\n",
      " 0.86666667 0.86666667 1.         1.        ]\n",
      "pca 변환 데이터 평균 정확도:  0.8933333333333333\n"
     ]
    }
   ],
   "source": [
    "pca_X = irisDF_pca.iloc[:,:-1]\n",
    "scores_pca = cross_val_score(rcf,pca_X, iris.target, scoring='accuracy', cv=10)\n",
    "print('pca 변환 데이터 교차 검증 개별 정확도: ',scores_pca)\n",
    "print('pca 변환 데이터 평균 정확도: ',np.mean(scores_pca))"
   ]
  },
  {
   "cell_type": "markdown",
   "metadata": {},
   "source": [
    "----------\n",
    "- 원본 데이터에 비해 속성 개수가 50% 감소(4개 -> 2개)\n",
    "- 정확도는 원본 데이터에 비해 7% 감소(0.96 -> 0.89)\n",
    "\n",
    "--> pca 변화 후에도 원본 데이터의 특성을 상당 부분 유지하고 있음을 알 수 있다."
   ]
  },
  {
   "cell_type": "markdown",
   "metadata": {},
   "source": [
    "<br><br>\n",
    "\n",
    "# LDA(Linear Discriminant Analysis)"
   ]
  },
  {
   "cell_type": "code",
   "execution_count": 40,
   "metadata": {},
   "outputs": [],
   "source": [
    "from sklearn.discriminant_analysis import LinearDiscriminantAnalysis"
   ]
  },
  {
   "cell_type": "code",
   "execution_count": 42,
   "metadata": {},
   "outputs": [],
   "source": [
    "lda = LinearDiscriminantAnalysis(n_components=2)\n",
    "lda.fit(iris_scaled, iris.target)\n",
    "iris_lda = lda.transform(iris_scaled)"
   ]
  },
  {
   "cell_type": "code",
   "execution_count": 43,
   "metadata": {},
   "outputs": [
    {
     "name": "stdout",
     "output_type": "stream",
     "text": [
      "(150, 2)\n"
     ]
    }
   ],
   "source": [
    "print(iris_lda.shape)"
   ]
  },
  {
   "cell_type": "code",
   "execution_count": 44,
   "metadata": {},
   "outputs": [],
   "source": [
    "lda_columns = ['lda_component1', 'lda_component2']\n",
    "irisDF_lda = pd.DataFrame(iris_lda, columns = lda_columns)\n",
    "irisDF_lda['target'] = iris.target"
   ]
  },
  {
   "cell_type": "code",
   "execution_count": 46,
   "metadata": {},
   "outputs": [
    {
     "data": {
      "image/png": "[encoded data removed]",
      "text/plain": [
       "<Figure size 720x360 with 1 Axes>"
      ]
     },
     "metadata": {
      "needs_background": "light"
     },
     "output_type": "display_data"
    }
   ],
   "source": [
    "#setosa: 삼각, versicolor: 사각, virginica: 원\n",
    "markers = ['^', 's','o']\n",
    "plt.figure(figsize=(10,5))\n",
    "#setosa:0, versicolor:1, virginica:2\n",
    "for i, marker in enumerate(markers):\n",
    "    x_axis_data= irisDF_lda[irisDF_pca['target']==i]['lda_component1']\n",
    "    y_axis_data= irisDF_lda[irisDF_pca['target']==i]['lda_component2']\n",
    "    plt.scatter(x_axis_data, y_axis_data, marker =marker, label = iris.target_names[i])\n",
    "\n",
    "plt.legend()\n",
    "plt.xlabel('lda_component1')\n",
    "plt.ylabel('lda_component2')\n",
    "plt.show()"
   ]
  },
  {
   "cell_type": "markdown",
   "metadata": {},
   "source": [
    "------\n",
    "- lda_component1 축을 기반으로 setosa는 확실히 구분된다.\n",
    "- versicolor와 virginica도 pca를 적용했을 때 보다 더 잘 구분된다."
   ]
  },
  {
   "cell_type": "code",
   "execution_count": 48,
   "metadata": {},
   "outputs": [
    {
     "name": "stdout",
     "output_type": "stream",
     "text": [
      "[0.9912126 0.0087874]\n"
     ]
    }
   ],
   "source": [
    "print(lda.explained_variance_ratio_)"
   ]
  },
  {
   "cell_type": "code",
   "execution_count": 49,
   "metadata": {},
   "outputs": [
    {
     "data": {
      "text/plain": [
       "0.9999999999999999"
      ]
     },
     "execution_count": 49,
     "metadata": {},
     "output_type": "execute_result"
    }
   ],
   "source": [
    "sum(lda.explained_variance_ratio_)"
   ]
  },
  {
   "cell_type": "markdown",
   "metadata": {},
   "source": [
    "------\n",
    "lda를 2개의 요소만으로 변환해도 원본데이터의 변동성을 약 99.9% 설명할 수 있다. "
   ]
  }
 ],
 "metadata": {
  "kernelspec": {
   "display_name": "Python 3",
   "language": "python",
   "name": "python3"
  },
  "language_info": {
   "codemirror_mode": {
    "name": "ipython",
    "version": 3
   },
   "file_extension": ".py",
   "mimetype": "text/x-python",
   "name": "python",
   "nbconvert_exporter": "python",
   "pygments_lexer": "ipython3",
   "version": "3.8.3"
  }
 },
 "nbformat": 4,
 "nbformat_minor": 4
}
